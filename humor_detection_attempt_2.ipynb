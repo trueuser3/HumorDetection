{
 "cells": [
  {
   "cell_type": "code",
   "execution_count": 14,
   "id": "987cdd2f",
   "metadata": {},
   "outputs": [
    {
     "name": "stderr",
     "output_type": "stream",
     "text": [
      "[nltk_data] Downloading package wordnet to /home/trueuser/nltk_data...\n",
      "[nltk_data]   Package wordnet is already up-to-date!\n",
      "[nltk_data] Downloading package stopwords to\n",
      "[nltk_data]     /home/trueuser/nltk_data...\n",
      "[nltk_data]   Unzipping corpora/stopwords.zip.\n"
     ]
    },
    {
     "data": {
      "text/plain": [
       "True"
      ]
     },
     "execution_count": 14,
     "metadata": {},
     "output_type": "execute_result"
    }
   ],
   "source": [
    "import pandas as pd\n",
    "import numpy as np\n",
    "import re\n",
    "from sklearn.feature_extraction.text import CountVectorizer, TfidfVectorizer\n",
    "\n",
    "from nltk.corpus import stopwords\n",
    "import nltk\n",
    "from nltk.stem.porter import *\n",
    "from nltk.stem import WordNetLemmatizer\n",
    "from nltk.corpus import stopwords\n",
    " \n",
    "import matplotlib.pyplot as plt\n",
    "\n",
    "from nltk.corpus import wordnet as wn\n",
    "from nltk.stem import WordNetLemmatizer\n",
    "nltk.download('wordnet')\n",
    "nltk.download('stopwords')"
   ]
  },
  {
   "cell_type": "markdown",
   "id": "16cb2fca",
   "metadata": {},
   "source": [
    "*Посмотрим на наш датасет*"
   ]
  },
  {
   "cell_type": "code",
   "execution_count": 2,
   "id": "4d7e1274",
   "metadata": {},
   "outputs": [
    {
     "data": {
      "text/html": [
       "<div>\n",
       "<style scoped>\n",
       "    .dataframe tbody tr th:only-of-type {\n",
       "        vertical-align: middle;\n",
       "    }\n",
       "\n",
       "    .dataframe tbody tr th {\n",
       "        vertical-align: top;\n",
       "    }\n",
       "\n",
       "    .dataframe thead th {\n",
       "        text-align: right;\n",
       "    }\n",
       "</style>\n",
       "<table border=\"1\" class=\"dataframe\">\n",
       "  <thead>\n",
       "    <tr style=\"text-align: right;\">\n",
       "      <th></th>\n",
       "      <th>text</th>\n",
       "      <th>humor</th>\n",
       "    </tr>\n",
       "  </thead>\n",
       "  <tbody>\n",
       "    <tr>\n",
       "      <th>0</th>\n",
       "      <td>Joe biden rules out 2020 bid: 'guys, i'm not r...</td>\n",
       "      <td>False</td>\n",
       "    </tr>\n",
       "    <tr>\n",
       "      <th>1</th>\n",
       "      <td>Watch: darvish gave hitter whiplash with slow ...</td>\n",
       "      <td>False</td>\n",
       "    </tr>\n",
       "    <tr>\n",
       "      <th>2</th>\n",
       "      <td>What do you call a turtle without its shell? d...</td>\n",
       "      <td>True</td>\n",
       "    </tr>\n",
       "    <tr>\n",
       "      <th>3</th>\n",
       "      <td>5 reasons the 2016 election feels so personal</td>\n",
       "      <td>False</td>\n",
       "    </tr>\n",
       "    <tr>\n",
       "      <th>4</th>\n",
       "      <td>Pasco police shot mexican migrant from behind,...</td>\n",
       "      <td>False</td>\n",
       "    </tr>\n",
       "    <tr>\n",
       "      <th>...</th>\n",
       "      <td>...</td>\n",
       "      <td>...</td>\n",
       "    </tr>\n",
       "    <tr>\n",
       "      <th>199995</th>\n",
       "      <td>Conor maynard seamlessly fits old-school r&amp;b h...</td>\n",
       "      <td>False</td>\n",
       "    </tr>\n",
       "    <tr>\n",
       "      <th>199996</th>\n",
       "      <td>How to you make holy water? you boil the hell ...</td>\n",
       "      <td>True</td>\n",
       "    </tr>\n",
       "    <tr>\n",
       "      <th>199997</th>\n",
       "      <td>How many optometrists does it take to screw in...</td>\n",
       "      <td>True</td>\n",
       "    </tr>\n",
       "    <tr>\n",
       "      <th>199998</th>\n",
       "      <td>Mcdonald's will officially kick off all-day br...</td>\n",
       "      <td>False</td>\n",
       "    </tr>\n",
       "    <tr>\n",
       "      <th>199999</th>\n",
       "      <td>An irish man walks on the street and ignores a...</td>\n",
       "      <td>True</td>\n",
       "    </tr>\n",
       "  </tbody>\n",
       "</table>\n",
       "<p>200000 rows × 2 columns</p>\n",
       "</div>"
      ],
      "text/plain": [
       "                                                     text  humor\n",
       "0       Joe biden rules out 2020 bid: 'guys, i'm not r...  False\n",
       "1       Watch: darvish gave hitter whiplash with slow ...  False\n",
       "2       What do you call a turtle without its shell? d...   True\n",
       "3           5 reasons the 2016 election feels so personal  False\n",
       "4       Pasco police shot mexican migrant from behind,...  False\n",
       "...                                                   ...    ...\n",
       "199995  Conor maynard seamlessly fits old-school r&b h...  False\n",
       "199996  How to you make holy water? you boil the hell ...   True\n",
       "199997  How many optometrists does it take to screw in...   True\n",
       "199998  Mcdonald's will officially kick off all-day br...  False\n",
       "199999  An irish man walks on the street and ignores a...   True\n",
       "\n",
       "[200000 rows x 2 columns]"
      ]
     },
     "execution_count": 2,
     "metadata": {},
     "output_type": "execute_result"
    }
   ],
   "source": [
    "df = pd.read_csv('dataset.csv')\n",
    "df"
   ]
  },
  {
   "cell_type": "code",
   "execution_count": 3,
   "id": "67a834de",
   "metadata": {},
   "outputs": [
    {
     "name": "stdout",
     "output_type": "stream",
     "text": [
      "<class 'pandas.core.frame.DataFrame'>\n",
      "RangeIndex: 200000 entries, 0 to 199999\n",
      "Data columns (total 2 columns):\n",
      " #   Column  Non-Null Count   Dtype \n",
      "---  ------  --------------   ----- \n",
      " 0   text    200000 non-null  object\n",
      " 1   humor   200000 non-null  bool  \n",
      "dtypes: bool(1), object(1)\n",
      "memory usage: 1.7+ MB\n"
     ]
    }
   ],
   "source": [
    "df.info()"
   ]
  },
  {
   "cell_type": "code",
   "execution_count": 4,
   "id": "8ad346d6",
   "metadata": {},
   "outputs": [
    {
     "data": {
      "image/png": "[encoded data removed]",
      "text/plain": [
       "<Figure size 1000x600 with 1 Axes>"
      ]
     },
     "metadata": {},
     "output_type": "display_data"
    }
   ],
   "source": [
    "plt.figure(figsize=(10, 6))\n",
    "plt.hist(df[df['humor'] == True]['text'].str.len(), bins=30, alpha=0.7, label='Humor')\n",
    "plt.hist(df[df['humor'] == False]['text'].str.len(), bins=30, alpha=0.7, label='Non-Humor')\n",
    "plt.xlabel(\"Text Length\")\n",
    "plt.ylabel(\"Frequency\")\n",
    "plt.title(\"Distribution of Text Lengths\")\n",
    "plt.legend()\n",
    "plt.show()"
   ]
  },
  {
   "cell_type": "markdown",
   "id": "fbcbba00",
   "metadata": {},
   "source": [
    "*Возьмем датасет поменьше (чтобы не так долго обучалось), попробуем на нем разные модельки, среди них возьмем самую лучшую и обучим уже на всём датасете*"
   ]
  },
  {
   "cell_type": "code",
   "execution_count": 5,
   "id": "ef28d2ee",
   "metadata": {},
   "outputs": [
    {
     "data": {
      "text/html": [
       "<div>\n",
       "<style scoped>\n",
       "    .dataframe tbody tr th:only-of-type {\n",
       "        vertical-align: middle;\n",
       "    }\n",
       "\n",
       "    .dataframe tbody tr th {\n",
       "        vertical-align: top;\n",
       "    }\n",
       "\n",
       "    .dataframe thead th {\n",
       "        text-align: right;\n",
       "    }\n",
       "</style>\n",
       "<table border=\"1\" class=\"dataframe\">\n",
       "  <thead>\n",
       "    <tr style=\"text-align: right;\">\n",
       "      <th></th>\n",
       "      <th>text</th>\n",
       "      <th>humor</th>\n",
       "    </tr>\n",
       "  </thead>\n",
       "  <tbody>\n",
       "    <tr>\n",
       "      <th>0</th>\n",
       "      <td>Joe biden rules out 2020 bid: 'guys, i'm not r...</td>\n",
       "      <td>False</td>\n",
       "    </tr>\n",
       "    <tr>\n",
       "      <th>1</th>\n",
       "      <td>Watch: darvish gave hitter whiplash with slow ...</td>\n",
       "      <td>False</td>\n",
       "    </tr>\n",
       "    <tr>\n",
       "      <th>2</th>\n",
       "      <td>What do you call a turtle without its shell? d...</td>\n",
       "      <td>True</td>\n",
       "    </tr>\n",
       "    <tr>\n",
       "      <th>3</th>\n",
       "      <td>5 reasons the 2016 election feels so personal</td>\n",
       "      <td>False</td>\n",
       "    </tr>\n",
       "    <tr>\n",
       "      <th>4</th>\n",
       "      <td>Pasco police shot mexican migrant from behind,...</td>\n",
       "      <td>False</td>\n",
       "    </tr>\n",
       "    <tr>\n",
       "      <th>...</th>\n",
       "      <td>...</td>\n",
       "      <td>...</td>\n",
       "    </tr>\n",
       "    <tr>\n",
       "      <th>4995</th>\n",
       "      <td>Why i won’t support medium’s new paid platform</td>\n",
       "      <td>False</td>\n",
       "    </tr>\n",
       "    <tr>\n",
       "      <th>4996</th>\n",
       "      <td>What do you call a wandering cave man? a meand...</td>\n",
       "      <td>True</td>\n",
       "    </tr>\n",
       "    <tr>\n",
       "      <th>4997</th>\n",
       "      <td>How do you get a fat girl in bed? piece of cake</td>\n",
       "      <td>True</td>\n",
       "    </tr>\n",
       "    <tr>\n",
       "      <th>4998</th>\n",
       "      <td>Mary j. blige encourages 'real talk' on new ra...</td>\n",
       "      <td>False</td>\n",
       "    </tr>\n",
       "    <tr>\n",
       "      <th>4999</th>\n",
       "      <td>Congressman missed ride to baseball practice w...</td>\n",
       "      <td>False</td>\n",
       "    </tr>\n",
       "  </tbody>\n",
       "</table>\n",
       "<p>5000 rows × 2 columns</p>\n",
       "</div>"
      ],
      "text/plain": [
       "                                                   text  humor\n",
       "0     Joe biden rules out 2020 bid: 'guys, i'm not r...  False\n",
       "1     Watch: darvish gave hitter whiplash with slow ...  False\n",
       "2     What do you call a turtle without its shell? d...   True\n",
       "3         5 reasons the 2016 election feels so personal  False\n",
       "4     Pasco police shot mexican migrant from behind,...  False\n",
       "...                                                 ...    ...\n",
       "4995     Why i won’t support medium’s new paid platform  False\n",
       "4996  What do you call a wandering cave man? a meand...   True\n",
       "4997    How do you get a fat girl in bed? piece of cake   True\n",
       "4998  Mary j. blige encourages 'real talk' on new ra...  False\n",
       "4999  Congressman missed ride to baseball practice w...  False\n",
       "\n",
       "[5000 rows x 2 columns]"
      ]
     },
     "execution_count": 5,
     "metadata": {},
     "output_type": "execute_result"
    }
   ],
   "source": [
    "small_df = df.head(5000)\n",
    "small_df"
   ]
  },
  {
   "cell_type": "code",
   "execution_count": 6,
   "id": "9e68ed23",
   "metadata": {},
   "outputs": [
    {
     "name": "stderr",
     "output_type": "stream",
     "text": [
      "/tmp/ipykernel_24141/399241374.py:2: SettingWithCopyWarning: \n",
      "A value is trying to be set on a copy of a slice from a DataFrame.\n",
      "Try using .loc[row_indexer,col_indexer] = value instead\n",
      "\n",
      "See the caveats in the documentation: https://pandas.pydata.org/pandas-docs/stable/user_guide/indexing.html#returning-a-view-versus-a-copy\n",
      "  small_df['humor'] = small_df['humor'].astype(int)\n"
     ]
    }
   ],
   "source": [
    "df['humor'] = df['humor'].astype(int)\n",
    "small_df['humor'] = small_df['humor'].astype(int)"
   ]
  },
  {
   "cell_type": "code",
   "execution_count": 7,
   "id": "61152026",
   "metadata": {},
   "outputs": [
    {
     "data": {
      "text/plain": [
       "array([[<Axes: title={'center': 'humor'}>]], dtype=object)"
      ]
     },
     "execution_count": 7,
     "metadata": {},
     "output_type": "execute_result"
    },
    {
     "data": {
      "image/png": "[encoded data removed]",
      "text/plain": [
       "<Figure size 640x480 with 1 Axes>"
      ]
     },
     "metadata": {},
     "output_type": "display_data"
    }
   ],
   "source": [
    "small_df.hist()"
   ]
  },
  {
   "cell_type": "code",
   "execution_count": 8,
   "id": "38c31a29",
   "metadata": {},
   "outputs": [
    {
     "data": {
      "text/plain": [
       "array([[<Axes: title={'center': 'humor'}>]], dtype=object)"
      ]
     },
     "execution_count": 8,
     "metadata": {},
     "output_type": "execute_result"
    },
    {
     "data": {
      "image/png": "[encoded data removed]",
      "text/plain": [
       "<Figure size 640x480 with 1 Axes>"
      ]
     },
     "metadata": {},
     "output_type": "display_data"
    }
   ],
   "source": [
    "df.hist()"
   ]
  },
  {
   "cell_type": "markdown",
   "id": "7983acb0",
   "metadata": {},
   "source": [
    "*Дисбаланса классов нет (в маленьком датасете чуть-чуть-чуть больше 1, чем 0, но кажется это совсем не страшно)*"
   ]
  },
  {
   "cell_type": "code",
   "execution_count": 9,
   "id": "c66d7bce",
   "metadata": {},
   "outputs": [],
   "source": [
    "from sklearn.model_selection import train_test_split\n",
    "from sklearn.feature_extraction.text import CountVectorizer\n",
    "\n",
    "from sklearn.linear_model import LogisticRegression\n",
    "from sklearn.metrics import f1_score, recall_score, accuracy_score, precision_score\n",
    "\n",
    "from sklearn.pipeline import Pipeline\n",
    "from sklearn.base import BaseEstimator\n",
    "from sklearn.ensemble import RandomForestClassifier\n",
    "from catboost import CatBoostClassifier\n",
    "\n",
    "from nltk.stem.porter import *"
   ]
  },
  {
   "cell_type": "code",
   "execution_count": 10,
   "id": "78266f72",
   "metadata": {},
   "outputs": [],
   "source": [
    "train, test = train_test_split(small_df, test_size = 0.25, random_state = 52)"
   ]
  },
  {
   "cell_type": "code",
   "execution_count": 11,
   "id": "8786da0c",
   "metadata": {},
   "outputs": [],
   "source": [
    "x_train = train['text']\n",
    "x_test = test['text']\n",
    "\n",
    "y_train = train['humor']\n",
    "y_test = test['humor']"
   ]
  },
  {
   "cell_type": "markdown",
   "id": "d7ad5c2d",
   "metadata": {},
   "source": [
    "*Давайте сначала попробуем вообще ничего не обрабатывать, ради интереса*"
   ]
  },
  {
   "cell_type": "code",
   "execution_count": 12,
   "id": "cb871106",
   "metadata": {},
   "outputs": [],
   "source": [
    "from tqdm import tqdm"
   ]
  },
  {
   "cell_type": "code",
   "execution_count": 13,
   "id": "dec30da0",
   "metadata": {},
   "outputs": [
    {
     "name": "stderr",
     "output_type": "stream",
     "text": [
      "  0%|                                                     | 0/2 [00:00<?, ?it/s]\n",
      "  0%|                                                     | 0/3 [00:00<?, ?it/s]\u001b[A\n",
      " 33%|███████████████                              | 1/3 [00:00<00:00,  3.22it/s]\u001b[A\n",
      " 67%|██████████████████████████████               | 2/3 [00:11<00:06,  6.71s/it]\u001b[A"
     ]
    },
    {
     "name": "stdout",
     "output_type": "stream",
     "text": [
      "Learning rate set to 0.018115\n",
      "0:\tlearn: 0.6855230\ttotal: 248ms\tremaining: 4m 7s\n",
      "500:\tlearn: 0.3139083\ttotal: 29.6s\tremaining: 30.8s\n"
     ]
    },
    {
     "name": "stderr",
     "output_type": "stream",
     "text": [
      "\n",
      "100%|█████████████████████████████████████████████| 3/3 [01:07<00:00, 22.50s/it]\u001b[A\n",
      " 50%|██████████████████████▌                      | 1/2 [01:07<01:07, 67.53s/it]"
     ]
    },
    {
     "name": "stdout",
     "output_type": "stream",
     "text": [
      "999:\tlearn: 0.2468758\ttotal: 56.5s\tremaining: 0us\n"
     ]
    },
    {
     "name": "stderr",
     "output_type": "stream",
     "text": [
      "\n",
      "  0%|                                                     | 0/3 [00:00<?, ?it/s]\u001b[A\n",
      " 33%|███████████████                              | 1/3 [00:00<00:00,  3.54it/s]\u001b[A\n",
      " 67%|██████████████████████████████               | 2/3 [00:06<00:03,  3.69s/it]\u001b[A"
     ]
    },
    {
     "name": "stdout",
     "output_type": "stream",
     "text": [
      "Learning rate set to 0.018115\n",
      "0:\tlearn: 0.6855522\ttotal: 87.6ms\tremaining: 1m 27s\n",
      "500:\tlearn: 0.3174990\ttotal: 40.9s\tremaining: 42.4s\n"
     ]
    },
    {
     "name": "stderr",
     "output_type": "stream",
     "text": [
      "\n",
      "100%|█████████████████████████████████████████████| 3/3 [01:56<00:00, 38.74s/it]\u001b[A\n",
      "100%|█████████████████████████████████████████████| 2/2 [03:03<00:00, 91.88s/it]"
     ]
    },
    {
     "name": "stdout",
     "output_type": "stream",
     "text": [
      "999:\tlearn: 0.2370501\ttotal: 1m 49s\tremaining: 0us\n"
     ]
    },
    {
     "name": "stderr",
     "output_type": "stream",
     "text": [
      "\n"
     ]
    },
    {
     "data": {
      "text/html": [
       "<div>\n",
       "<style scoped>\n",
       "    .dataframe tbody tr th:only-of-type {\n",
       "        vertical-align: middle;\n",
       "    }\n",
       "\n",
       "    .dataframe tbody tr th {\n",
       "        vertical-align: top;\n",
       "    }\n",
       "\n",
       "    .dataframe thead th {\n",
       "        text-align: right;\n",
       "    }\n",
       "</style>\n",
       "<table border=\"1\" class=\"dataframe\">\n",
       "  <thead>\n",
       "    <tr style=\"text-align: right;\">\n",
       "      <th></th>\n",
       "      <th>vect</th>\n",
       "      <th>model</th>\n",
       "      <th>accuracy</th>\n",
       "      <th>recall</th>\n",
       "      <th>precision</th>\n",
       "      <th>f1</th>\n",
       "    </tr>\n",
       "  </thead>\n",
       "  <tbody>\n",
       "    <tr>\n",
       "      <th>0</th>\n",
       "      <td>CountVectorizer</td>\n",
       "      <td>LogisticRegression</td>\n",
       "      <td>0.9000</td>\n",
       "      <td>0.907251</td>\n",
       "      <td>0.884868</td>\n",
       "      <td>0.895920</td>\n",
       "    </tr>\n",
       "    <tr>\n",
       "      <th>1</th>\n",
       "      <td>CountVectorizer</td>\n",
       "      <td>RandomForestClassifier</td>\n",
       "      <td>0.8872</td>\n",
       "      <td>0.868878</td>\n",
       "      <td>0.904605</td>\n",
       "      <td>0.886382</td>\n",
       "    </tr>\n",
       "    <tr>\n",
       "      <th>2</th>\n",
       "      <td>CountVectorizer</td>\n",
       "      <td>CatBoostClassifier</td>\n",
       "      <td>0.8752</td>\n",
       "      <td>0.891003</td>\n",
       "      <td>0.847039</td>\n",
       "      <td>0.868465</td>\n",
       "    </tr>\n",
       "    <tr>\n",
       "      <th>3</th>\n",
       "      <td>TfidfVectorizer</td>\n",
       "      <td>LogisticRegression</td>\n",
       "      <td>0.9024</td>\n",
       "      <td>0.886943</td>\n",
       "      <td>0.916118</td>\n",
       "      <td>0.901294</td>\n",
       "    </tr>\n",
       "    <tr>\n",
       "      <th>4</th>\n",
       "      <td>TfidfVectorizer</td>\n",
       "      <td>RandomForestClassifier</td>\n",
       "      <td>0.8880</td>\n",
       "      <td>0.864486</td>\n",
       "      <td>0.912829</td>\n",
       "      <td>0.888000</td>\n",
       "    </tr>\n",
       "    <tr>\n",
       "      <th>5</th>\n",
       "      <td>TfidfVectorizer</td>\n",
       "      <td>CatBoostClassifier</td>\n",
       "      <td>0.8776</td>\n",
       "      <td>0.887564</td>\n",
       "      <td>0.856908</td>\n",
       "      <td>0.871967</td>\n",
       "    </tr>\n",
       "  </tbody>\n",
       "</table>\n",
       "</div>"
      ],
      "text/plain": [
       "              vect                   model  accuracy    recall  precision  \\\n",
       "0  CountVectorizer      LogisticRegression    0.9000  0.907251   0.884868   \n",
       "1  CountVectorizer  RandomForestClassifier    0.8872  0.868878   0.904605   \n",
       "2  CountVectorizer      CatBoostClassifier    0.8752  0.891003   0.847039   \n",
       "3  TfidfVectorizer      LogisticRegression    0.9024  0.886943   0.916118   \n",
       "4  TfidfVectorizer  RandomForestClassifier    0.8880  0.864486   0.912829   \n",
       "5  TfidfVectorizer      CatBoostClassifier    0.8776  0.887564   0.856908   \n",
       "\n",
       "         f1  \n",
       "0  0.895920  \n",
       "1  0.886382  \n",
       "2  0.868465  \n",
       "3  0.901294  \n",
       "4  0.888000  \n",
       "5  0.871967  "
      ]
     },
     "execution_count": 13,
     "metadata": {},
     "output_type": "execute_result"
    }
   ],
   "source": [
    "fit_results = []\n",
    "\n",
    "for vect in tqdm([CountVectorizer(), TfidfVectorizer()]):\n",
    "    for model in tqdm([LogisticRegression(), RandomForestClassifier(), CatBoostClassifier(verbose = 500)]):\n",
    "        pipeline = Pipeline(\n",
    "            [\n",
    "                (\"vect\", vect),\n",
    "                (\"model\", model),\n",
    "            ]\n",
    "        )\n",
    "        pipeline.fit(x_train, y_train)\n",
    "        y_pred = pipeline.predict(x_test)\n",
    "        \n",
    "        accuracy_metric = accuracy_score(y_pred, y_test)\n",
    "        recall_metric = recall_score(y_pred, y_test)\n",
    "        precision_metric = precision_score(y_pred, y_test)\n",
    "        f1_metric = f1_score(y_pred, y_test)\n",
    "        \n",
    "        fit_results.append(\n",
    "            {\n",
    "                'vect': vect.__class__.__name__,\n",
    "                'model': model.__class__.__name__,\n",
    "                'accuracy': accuracy_metric,\n",
    "                'recall': recall_metric,\n",
    "                'precision': precision_metric,\n",
    "                'f1': f1_metric,\n",
    "            }\n",
    "        )\n",
    "\n",
    "fit_results = pd.DataFrame(fit_results)\n",
    "fit_results"
   ]
  },
  {
   "cell_type": "markdown",
   "id": "eb68b270",
   "metadata": {},
   "source": [
    "*Получилось неплохо. Давайте теперь обработаем*"
   ]
  },
  {
   "cell_type": "markdown",
   "id": "77745384",
   "metadata": {},
   "source": [
    "*Для начала уберем стоп-слова*"
   ]
  },
  {
   "cell_type": "code",
   "execution_count": 15,
   "id": "2618263a",
   "metadata": {},
   "outputs": [],
   "source": [
    "def remove_from_text(text: str) -> str:\n",
    "    words = text.split()\n",
    "    filtered_words = [word for word in words if word not in stopwords.words('english')]\n",
    "    return ' '.join(filtered_words)\n",
    "\n",
    "class RemoveStopWords(BaseEstimator):\n",
    "    def fit(self, x, y=None):\n",
    "        return self\n",
    "    \n",
    "    def transform(self, x):\n",
    "        return np.array(list(map(lambda x: ''.join(remove_from_text(x)), x)))"
   ]
  },
  {
   "cell_type": "code",
   "execution_count": 19,
   "id": "70990bf6",
   "metadata": {},
   "outputs": [
    {
     "data": {
      "text/html": [
       "<div>\n",
       "<style scoped>\n",
       "    .dataframe tbody tr th:only-of-type {\n",
       "        vertical-align: middle;\n",
       "    }\n",
       "\n",
       "    .dataframe tbody tr th {\n",
       "        vertical-align: top;\n",
       "    }\n",
       "\n",
       "    .dataframe thead th {\n",
       "        text-align: right;\n",
       "    }\n",
       "</style>\n",
       "<table border=\"1\" class=\"dataframe\">\n",
       "  <thead>\n",
       "    <tr style=\"text-align: right;\">\n",
       "      <th></th>\n",
       "      <th>0</th>\n",
       "    </tr>\n",
       "  </thead>\n",
       "  <tbody>\n",
       "    <tr>\n",
       "      <th>0</th>\n",
       "      <td>U.s. schools already faced 10 shooting inciden...</td>\n",
       "    </tr>\n",
       "    <tr>\n",
       "      <th>1</th>\n",
       "      <td>I sleep better naked...why can't flight attend...</td>\n",
       "    </tr>\n",
       "    <tr>\n",
       "      <th>2</th>\n",
       "      <td>The gop tax scam makes super-rich, richer, wid...</td>\n",
       "    </tr>\n",
       "    <tr>\n",
       "      <th>3</th>\n",
       "      <td>Zithromax, widely used antibiotic known z-pak,...</td>\n",
       "    </tr>\n",
       "    <tr>\n",
       "      <th>4</th>\n",
       "      <td>How confuse ugly person orange.</td>\n",
       "    </tr>\n",
       "    <tr>\n",
       "      <th>...</th>\n",
       "      <td>...</td>\n",
       "    </tr>\n",
       "    <tr>\n",
       "      <th>3745</th>\n",
       "      <td>How stop worrying love artificial intelligence</td>\n",
       "    </tr>\n",
       "    <tr>\n",
       "      <th>3746</th>\n",
       "      <td>Two ducks walk bar. third duck ducks.</td>\n",
       "    </tr>\n",
       "    <tr>\n",
       "      <th>3747</th>\n",
       "      <td>This ancient video kendall kylie jenner lip-sy...</td>\n",
       "    </tr>\n",
       "    <tr>\n",
       "      <th>3748</th>\n",
       "      <td>Why russia gassy country? leader putin long time.</td>\n",
       "    </tr>\n",
       "    <tr>\n",
       "      <th>3749</th>\n",
       "      <td>What one wall say wall? let's meet corner.</td>\n",
       "    </tr>\n",
       "  </tbody>\n",
       "</table>\n",
       "<p>3750 rows × 1 columns</p>\n",
       "</div>"
      ],
      "text/plain": [
       "                                                      0\n",
       "0     U.s. schools already faced 10 shooting inciden...\n",
       "1     I sleep better naked...why can't flight attend...\n",
       "2     The gop tax scam makes super-rich, richer, wid...\n",
       "3     Zithromax, widely used antibiotic known z-pak,...\n",
       "4                       How confuse ugly person orange.\n",
       "...                                                 ...\n",
       "3745     How stop worrying love artificial intelligence\n",
       "3746              Two ducks walk bar. third duck ducks.\n",
       "3747  This ancient video kendall kylie jenner lip-sy...\n",
       "3748  Why russia gassy country? leader putin long time.\n",
       "3749         What one wall say wall? let's meet corner.\n",
       "\n",
       "[3750 rows x 1 columns]"
      ]
     },
     "execution_count": 19,
     "metadata": {},
     "output_type": "execute_result"
    }
   ],
   "source": [
    "pd.DataFrame(x_train)"
   ]
  },
  {
   "cell_type": "code",
   "execution_count": 20,
   "id": "b54cc36b",
   "metadata": {},
   "outputs": [],
   "source": [
    "x_train = RemoveStopWords().transform(x_train)\n",
    "x_test = RemoveStopWords().transform(x_test)"
   ]
  },
  {
   "cell_type": "code",
   "execution_count": 21,
   "id": "cfe5dd4a",
   "metadata": {},
   "outputs": [
    {
     "data": {
      "text/html": [
       "<div>\n",
       "<style scoped>\n",
       "    .dataframe tbody tr th:only-of-type {\n",
       "        vertical-align: middle;\n",
       "    }\n",
       "\n",
       "    .dataframe tbody tr th {\n",
       "        vertical-align: top;\n",
       "    }\n",
       "\n",
       "    .dataframe thead th {\n",
       "        text-align: right;\n",
       "    }\n",
       "</style>\n",
       "<table border=\"1\" class=\"dataframe\">\n",
       "  <thead>\n",
       "    <tr style=\"text-align: right;\">\n",
       "      <th></th>\n",
       "      <th>0</th>\n",
       "    </tr>\n",
       "  </thead>\n",
       "  <tbody>\n",
       "    <tr>\n",
       "      <th>0</th>\n",
       "      <td>U.s. schools already faced 10 shooting inciden...</td>\n",
       "    </tr>\n",
       "    <tr>\n",
       "      <th>1</th>\n",
       "      <td>I sleep better naked...why can't flight attend...</td>\n",
       "    </tr>\n",
       "    <tr>\n",
       "      <th>2</th>\n",
       "      <td>The gop tax scam makes super-rich, richer, wid...</td>\n",
       "    </tr>\n",
       "    <tr>\n",
       "      <th>3</th>\n",
       "      <td>Zithromax, widely used antibiotic known z-pak,...</td>\n",
       "    </tr>\n",
       "    <tr>\n",
       "      <th>4</th>\n",
       "      <td>How confuse ugly person orange.</td>\n",
       "    </tr>\n",
       "    <tr>\n",
       "      <th>...</th>\n",
       "      <td>...</td>\n",
       "    </tr>\n",
       "    <tr>\n",
       "      <th>3745</th>\n",
       "      <td>How stop worrying love artificial intelligence</td>\n",
       "    </tr>\n",
       "    <tr>\n",
       "      <th>3746</th>\n",
       "      <td>Two ducks walk bar. third duck ducks.</td>\n",
       "    </tr>\n",
       "    <tr>\n",
       "      <th>3747</th>\n",
       "      <td>This ancient video kendall kylie jenner lip-sy...</td>\n",
       "    </tr>\n",
       "    <tr>\n",
       "      <th>3748</th>\n",
       "      <td>Why russia gassy country? leader putin long time.</td>\n",
       "    </tr>\n",
       "    <tr>\n",
       "      <th>3749</th>\n",
       "      <td>What one wall say wall? let's meet corner.</td>\n",
       "    </tr>\n",
       "  </tbody>\n",
       "</table>\n",
       "<p>3750 rows × 1 columns</p>\n",
       "</div>"
      ],
      "text/plain": [
       "                                                      0\n",
       "0     U.s. schools already faced 10 shooting inciden...\n",
       "1     I sleep better naked...why can't flight attend...\n",
       "2     The gop tax scam makes super-rich, richer, wid...\n",
       "3     Zithromax, widely used antibiotic known z-pak,...\n",
       "4                       How confuse ugly person orange.\n",
       "...                                                 ...\n",
       "3745     How stop worrying love artificial intelligence\n",
       "3746              Two ducks walk bar. third duck ducks.\n",
       "3747  This ancient video kendall kylie jenner lip-sy...\n",
       "3748  Why russia gassy country? leader putin long time.\n",
       "3749         What one wall say wall? let's meet corner.\n",
       "\n",
       "[3750 rows x 1 columns]"
      ]
     },
     "execution_count": 21,
     "metadata": {},
     "output_type": "execute_result"
    }
   ],
   "source": [
    "pd.DataFrame(x_train)"
   ]
  },
  {
   "cell_type": "code",
   "execution_count": 22,
   "id": "6a4714dc",
   "metadata": {},
   "outputs": [],
   "source": [
    "from nltk.stem.porter import *\n",
    "\n",
    "stemmer = PorterStemmer()"
   ]
  },
  {
   "cell_type": "code",
   "execution_count": 23,
   "id": "2c1ba721",
   "metadata": {},
   "outputs": [],
   "source": [
    "class StemmerEng(BaseEstimator):\n",
    "    def __init__(self):\n",
    "        self.stemmer = PorterStemmer()\n",
    "        \n",
    "    def fit(self, x, y=None):\n",
    "        return self\n",
    "    \n",
    "    def _stem(self, word):\n",
    "        return self.stemmer.stem(word)\n",
    "    \n",
    "    def _transform_text(self, text):\n",
    "        return ' '.join(map(self._stem, text.split())) \n",
    "\n",
    "    def transform(self, x):\n",
    "        return list(map(self._transform_text, x))"
   ]
  },
  {
   "cell_type": "code",
   "execution_count": 24,
   "id": "0604388d",
   "metadata": {},
   "outputs": [
    {
     "name": "stderr",
     "output_type": "stream",
     "text": [
      "  0%|                                                     | 0/2 [00:00<?, ?it/s]\n",
      "  0%|                                                     | 0/3 [00:00<?, ?it/s]\u001b[A\n",
      " 33%|███████████████                              | 1/3 [00:01<00:02,  1.43s/it]\u001b[A\n",
      " 67%|██████████████████████████████               | 2/3 [00:11<00:06,  6.33s/it]\u001b[A"
     ]
    },
    {
     "name": "stdout",
     "output_type": "stream",
     "text": [
      "Learning rate set to 0.018115\n",
      "0:\tlearn: 0.6873053\ttotal: 34ms\tremaining: 34s\n",
      "500:\tlearn: 0.4062674\ttotal: 16.8s\tremaining: 16.9s\n",
      "999:\tlearn: 0.3327749\ttotal: 36.2s\tremaining: 0us\n"
     ]
    },
    {
     "name": "stderr",
     "output_type": "stream",
     "text": [
      "\n",
      "100%|█████████████████████████████████████████████| 3/3 [00:47<00:00, 15.87s/it]\u001b[A\n",
      " 50%|██████████████████████▌                      | 1/2 [00:47<00:47, 47.62s/it]\n",
      "  0%|                                                     | 0/3 [00:00<?, ?it/s]\u001b[A\n",
      " 33%|███████████████                              | 1/3 [00:01<00:02,  1.32s/it]\u001b[A\n",
      " 67%|██████████████████████████████               | 2/3 [00:09<00:05,  5.30s/it]\u001b[A"
     ]
    },
    {
     "name": "stdout",
     "output_type": "stream",
     "text": [
      "Learning rate set to 0.018115\n",
      "0:\tlearn: 0.6877127\ttotal: 69.9ms\tremaining: 1m 9s\n",
      "500:\tlearn: 0.4067833\ttotal: 44.4s\tremaining: 46.4s\n",
      "999:\tlearn: 0.3223238\ttotal: 1m 23s\tremaining: 0us\n"
     ]
    },
    {
     "name": "stderr",
     "output_type": "stream",
     "text": [
      "\n",
      "100%|█████████████████████████████████████████████| 3/3 [01:34<00:00, 31.37s/it]\u001b[A\n",
      "100%|█████████████████████████████████████████████| 2/2 [02:21<00:00, 70.87s/it]\n"
     ]
    },
    {
     "data": {
      "text/html": [
       "<div>\n",
       "<style scoped>\n",
       "    .dataframe tbody tr th:only-of-type {\n",
       "        vertical-align: middle;\n",
       "    }\n",
       "\n",
       "    .dataframe tbody tr th {\n",
       "        vertical-align: top;\n",
       "    }\n",
       "\n",
       "    .dataframe thead th {\n",
       "        text-align: right;\n",
       "    }\n",
       "</style>\n",
       "<table border=\"1\" class=\"dataframe\">\n",
       "  <thead>\n",
       "    <tr style=\"text-align: right;\">\n",
       "      <th></th>\n",
       "      <th>vect</th>\n",
       "      <th>model</th>\n",
       "      <th>accuracy</th>\n",
       "      <th>recall</th>\n",
       "      <th>precision</th>\n",
       "      <th>f1</th>\n",
       "    </tr>\n",
       "  </thead>\n",
       "  <tbody>\n",
       "    <tr>\n",
       "      <th>0</th>\n",
       "      <td>CountVectorizer</td>\n",
       "      <td>LogisticRegression</td>\n",
       "      <td>0.8896</td>\n",
       "      <td>0.898305</td>\n",
       "      <td>0.871711</td>\n",
       "      <td>0.884808</td>\n",
       "    </tr>\n",
       "    <tr>\n",
       "      <th>1</th>\n",
       "      <td>CountVectorizer</td>\n",
       "      <td>RandomForestClassifier</td>\n",
       "      <td>0.8552</td>\n",
       "      <td>0.873905</td>\n",
       "      <td>0.820724</td>\n",
       "      <td>0.846480</td>\n",
       "    </tr>\n",
       "    <tr>\n",
       "      <th>2</th>\n",
       "      <td>CountVectorizer</td>\n",
       "      <td>CatBoostClassifier</td>\n",
       "      <td>0.8440</td>\n",
       "      <td>0.883117</td>\n",
       "      <td>0.782895</td>\n",
       "      <td>0.829991</td>\n",
       "    </tr>\n",
       "    <tr>\n",
       "      <th>3</th>\n",
       "      <td>TfidfVectorizer</td>\n",
       "      <td>LogisticRegression</td>\n",
       "      <td>0.8864</td>\n",
       "      <td>0.893581</td>\n",
       "      <td>0.870066</td>\n",
       "      <td>0.881667</td>\n",
       "    </tr>\n",
       "    <tr>\n",
       "      <th>4</th>\n",
       "      <td>TfidfVectorizer</td>\n",
       "      <td>RandomForestClassifier</td>\n",
       "      <td>0.8512</td>\n",
       "      <td>0.847039</td>\n",
       "      <td>0.847039</td>\n",
       "      <td>0.847039</td>\n",
       "    </tr>\n",
       "    <tr>\n",
       "      <th>5</th>\n",
       "      <td>TfidfVectorizer</td>\n",
       "      <td>CatBoostClassifier</td>\n",
       "      <td>0.8424</td>\n",
       "      <td>0.866310</td>\n",
       "      <td>0.799342</td>\n",
       "      <td>0.831480</td>\n",
       "    </tr>\n",
       "  </tbody>\n",
       "</table>\n",
       "</div>"
      ],
      "text/plain": [
       "              vect                   model  accuracy    recall  precision  \\\n",
       "0  CountVectorizer      LogisticRegression    0.8896  0.898305   0.871711   \n",
       "1  CountVectorizer  RandomForestClassifier    0.8552  0.873905   0.820724   \n",
       "2  CountVectorizer      CatBoostClassifier    0.8440  0.883117   0.782895   \n",
       "3  TfidfVectorizer      LogisticRegression    0.8864  0.893581   0.870066   \n",
       "4  TfidfVectorizer  RandomForestClassifier    0.8512  0.847039   0.847039   \n",
       "5  TfidfVectorizer      CatBoostClassifier    0.8424  0.866310   0.799342   \n",
       "\n",
       "         f1  \n",
       "0  0.884808  \n",
       "1  0.846480  \n",
       "2  0.829991  \n",
       "3  0.881667  \n",
       "4  0.847039  \n",
       "5  0.831480  "
      ]
     },
     "execution_count": 24,
     "metadata": {},
     "output_type": "execute_result"
    }
   ],
   "source": [
    "fit_results = []\n",
    "\n",
    "for vect in tqdm([CountVectorizer(), TfidfVectorizer()]):\n",
    "    for model in tqdm([LogisticRegression(), RandomForestClassifier(), CatBoostClassifier(verbose = 500)]):\n",
    "        pipeline = Pipeline(\n",
    "            [\n",
    "                (\"stem\", StemmerEng()),\n",
    "                (\"vect\", vect),\n",
    "                (\"model\", model),\n",
    "            ]\n",
    "        )\n",
    "        pipeline.fit(x_train, y_train)\n",
    "        y_pred = pipeline.predict(x_test)\n",
    "        \n",
    "        accuracy_metric = accuracy_score(y_pred, y_test)\n",
    "        recall_metric = recall_score(y_pred, y_test)\n",
    "        precision_metric = precision_score(y_pred, y_test)\n",
    "        f1_metric = f1_score(y_pred, y_test)\n",
    "        \n",
    "        fit_results.append(\n",
    "            {\n",
    "                'vect': vect.__class__.__name__,\n",
    "                'model': model.__class__.__name__,\n",
    "                'accuracy': accuracy_metric,\n",
    "                'recall': recall_metric,\n",
    "                'precision': precision_metric,\n",
    "                'f1': f1_metric,\n",
    "            }\n",
    "        )\n",
    "\n",
    "fit_results = pd.DataFrame(fit_results)\n",
    "fit_results"
   ]
  },
  {
   "cell_type": "markdown",
   "id": "034610d1",
   "metadata": {},
   "source": [
    "*Попробуйем поперебирать гиперпараметры*"
   ]
  },
  {
   "cell_type": "code",
   "execution_count": 25,
   "id": "cd126a0b",
   "metadata": {},
   "outputs": [
    {
     "name": "stderr",
     "output_type": "stream",
     "text": [
      "  0%|                                                     | 0/2 [00:00<?, ?it/s]\n",
      "  0%|                                                     | 0/3 [00:00<?, ?it/s]\u001b[A\n",
      " 33%|███████████████                              | 1/3 [00:01<00:02,  1.32s/it]\u001b[A\n",
      " 67%|██████████████████████████████               | 2/3 [00:08<00:04,  4.76s/it]\u001b[A"
     ]
    },
    {
     "name": "stdout",
     "output_type": "stream",
     "text": [
      "Learning rate set to 0.282546\n",
      "0:\tlearn: 0.6206384\ttotal: 35.6ms\tremaining: 1.75s\n",
      "49:\tlearn: 0.3508333\ttotal: 2.66s\tremaining: 0us\n"
     ]
    },
    {
     "name": "stderr",
     "output_type": "stream",
     "text": [
      "\n",
      "100%|█████████████████████████████████████████████| 3/3 [00:12<00:00,  4.24s/it]\u001b[A\n",
      " 50%|██████████████████████▌                      | 1/2 [00:12<00:12, 12.73s/it]\n",
      "  0%|                                                     | 0/3 [00:00<?, ?it/s]\u001b[A\n",
      " 33%|███████████████                              | 1/3 [00:01<00:03,  1.67s/it]\u001b[A\n",
      " 67%|██████████████████████████████               | 2/3 [00:08<00:04,  4.65s/it]\u001b[A"
     ]
    },
    {
     "name": "stdout",
     "output_type": "stream",
     "text": [
      "Learning rate set to 0.282546\n",
      "0:\tlearn: 0.6242727\ttotal: 71.4ms\tremaining: 3.5s\n",
      "49:\tlearn: 0.3494822\ttotal: 3.63s\tremaining: 0us\n"
     ]
    },
    {
     "name": "stderr",
     "output_type": "stream",
     "text": [
      "\n",
      "100%|█████████████████████████████████████████████| 3/3 [00:13<00:00,  4.56s/it]\u001b[A\n",
      "100%|█████████████████████████████████████████████| 2/2 [00:26<00:00, 13.21s/it]\n",
      "  0%|                                                     | 0/2 [00:00<?, ?it/s]\n",
      "  0%|                                                     | 0/3 [00:00<?, ?it/s]\u001b[A\n",
      " 33%|███████████████                              | 1/3 [00:01<00:02,  1.39s/it]\u001b[A\n",
      " 67%|██████████████████████████████               | 2/3 [00:08<00:04,  4.96s/it]\u001b[A"
     ]
    },
    {
     "name": "stdout",
     "output_type": "stream",
     "text": [
      "Learning rate set to 0.149639\n",
      "0:\tlearn: 0.6498593\ttotal: 35ms\tremaining: 3.46s\n",
      "99:\tlearn: 0.3501680\ttotal: 3.83s\tremaining: 0us\n"
     ]
    },
    {
     "name": "stderr",
     "output_type": "stream",
     "text": [
      "\n",
      "100%|█████████████████████████████████████████████| 3/3 [00:14<00:00,  4.74s/it]\u001b[A\n",
      " 50%|██████████████████████▌                      | 1/2 [00:14<00:14, 14.22s/it]\n",
      "  0%|                                                     | 0/3 [00:00<?, ?it/s]\u001b[A\n",
      " 33%|███████████████                              | 1/3 [00:01<00:03,  1.81s/it]\u001b[A\n",
      " 67%|██████████████████████████████               | 2/3 [00:09<00:05,  5.06s/it]\u001b[A"
     ]
    },
    {
     "name": "stdout",
     "output_type": "stream",
     "text": [
      "Learning rate set to 0.149639\n",
      "0:\tlearn: 0.6524583\ttotal: 71.4ms\tremaining: 7.07s\n",
      "99:\tlearn: 0.3398716\ttotal: 7.38s\tremaining: 0us\n"
     ]
    },
    {
     "name": "stderr",
     "output_type": "stream",
     "text": [
      "\n",
      "100%|█████████████████████████████████████████████| 3/3 [00:18<00:00,  6.02s/it]\u001b[A\n",
      "100%|█████████████████████████████████████████████| 2/2 [00:32<00:00, 16.16s/it]\n",
      "  0%|                                                     | 0/2 [00:00<?, ?it/s]\n",
      "  0%|                                                     | 0/3 [00:00<?, ?it/s]\u001b[A\n",
      " 33%|███████████████                              | 1/3 [00:01<00:03,  1.85s/it]\u001b[A\n",
      " 67%|██████████████████████████████               | 2/3 [00:11<00:06,  6.59s/it]\u001b[A"
     ]
    },
    {
     "name": "stdout",
     "output_type": "stream",
     "text": [
      "Learning rate set to 0.103174\n",
      "0:\tlearn: 0.6620811\ttotal: 41.8ms\tremaining: 6.23s\n",
      "149:\tlearn: 0.3475081\ttotal: 5.38s\tremaining: 0us\n"
     ]
    },
    {
     "name": "stderr",
     "output_type": "stream",
     "text": [
      "\n",
      "100%|█████████████████████████████████████████████| 3/3 [00:18<00:00,  6.32s/it]\u001b[A\n",
      " 50%|██████████████████████▌                      | 1/2 [00:18<00:18, 18.99s/it]\n",
      "  0%|                                                     | 0/3 [00:00<?, ?it/s]\u001b[A\n",
      " 33%|███████████████                              | 1/3 [00:01<00:03,  1.69s/it]\u001b[A\n",
      " 67%|██████████████████████████████               | 2/3 [00:11<00:06,  6.43s/it]\u001b[A"
     ]
    },
    {
     "name": "stdout",
     "output_type": "stream",
     "text": [
      "Learning rate set to 0.103174\n",
      "0:\tlearn: 0.6640500\ttotal: 151ms\tremaining: 22.6s\n",
      "149:\tlearn: 0.3388280\ttotal: 12.1s\tremaining: 0us\n"
     ]
    },
    {
     "name": "stderr",
     "output_type": "stream",
     "text": [
      "\n",
      "100%|█████████████████████████████████████████████| 3/3 [00:25<00:00,  8.47s/it]\u001b[A\n",
      "100%|█████████████████████████████████████████████| 2/2 [00:44<00:00, 22.21s/it]\n",
      "  0%|                                                     | 0/2 [00:00<?, ?it/s]\n",
      "  0%|                                                     | 0/3 [00:00<?, ?it/s]\u001b[A\n",
      " 33%|███████████████                              | 1/3 [00:01<00:03,  1.54s/it]\u001b[A\n",
      " 67%|██████████████████████████████               | 2/3 [00:08<00:05,  5.00s/it]\u001b[A"
     ]
    },
    {
     "name": "stdout",
     "output_type": "stream",
     "text": [
      "Learning rate set to 0.07925\n",
      "0:\tlearn: 0.6688020\ttotal: 34.3ms\tremaining: 6.83s\n",
      "199:\tlearn: 0.3465177\ttotal: 6.92s\tremaining: 0us\n"
     ]
    },
    {
     "name": "stderr",
     "output_type": "stream",
     "text": [
      "\n",
      "100%|█████████████████████████████████████████████| 3/3 [00:17<00:00,  5.78s/it]\u001b[A\n",
      " 50%|██████████████████████▌                      | 1/2 [00:17<00:17, 17.35s/it]\n",
      "  0%|                                                     | 0/3 [00:00<?, ?it/s]\u001b[A\n",
      " 33%|███████████████                              | 1/3 [00:01<00:02,  1.40s/it]\u001b[A\n",
      " 67%|██████████████████████████████               | 2/3 [00:08<00:04,  4.56s/it]\u001b[A"
     ]
    },
    {
     "name": "stdout",
     "output_type": "stream",
     "text": [
      "Learning rate set to 0.07925\n",
      "0:\tlearn: 0.6703840\ttotal: 76.1ms\tremaining: 15.1s\n",
      "199:\tlearn: 0.3347245\ttotal: 15s\tremaining: 0us\n"
     ]
    },
    {
     "name": "stderr",
     "output_type": "stream",
     "text": [
      "\n",
      "100%|█████████████████████████████████████████████| 3/3 [00:24<00:00,  8.23s/it]\u001b[A\n",
      "100%|█████████████████████████████████████████████| 2/2 [00:42<00:00, 21.04s/it]\n"
     ]
    },
    {
     "data": {
      "text/html": [
       "<div>\n",
       "<style scoped>\n",
       "    .dataframe tbody tr th:only-of-type {\n",
       "        vertical-align: middle;\n",
       "    }\n",
       "\n",
       "    .dataframe tbody tr th {\n",
       "        vertical-align: top;\n",
       "    }\n",
       "\n",
       "    .dataframe thead th {\n",
       "        text-align: right;\n",
       "    }\n",
       "</style>\n",
       "<table border=\"1\" class=\"dataframe\">\n",
       "  <thead>\n",
       "    <tr style=\"text-align: right;\">\n",
       "      <th></th>\n",
       "      <th>vect</th>\n",
       "      <th>model</th>\n",
       "      <th>iterations</th>\n",
       "      <th>accuracy</th>\n",
       "      <th>recall</th>\n",
       "      <th>precision</th>\n",
       "      <th>f1</th>\n",
       "    </tr>\n",
       "  </thead>\n",
       "  <tbody>\n",
       "    <tr>\n",
       "      <th>0</th>\n",
       "      <td>CountVectorizer</td>\n",
       "      <td>LogisticRegression</td>\n",
       "      <td>50</td>\n",
       "      <td>0.8896</td>\n",
       "      <td>0.898305</td>\n",
       "      <td>0.871711</td>\n",
       "      <td>0.884808</td>\n",
       "    </tr>\n",
       "    <tr>\n",
       "      <th>1</th>\n",
       "      <td>CountVectorizer</td>\n",
       "      <td>RandomForestClassifier</td>\n",
       "      <td>50</td>\n",
       "      <td>0.8624</td>\n",
       "      <td>0.874570</td>\n",
       "      <td>0.837171</td>\n",
       "      <td>0.855462</td>\n",
       "    </tr>\n",
       "    <tr>\n",
       "      <th>2</th>\n",
       "      <td>CountVectorizer</td>\n",
       "      <td>CatBoostClassifier</td>\n",
       "      <td>50</td>\n",
       "      <td>0.8440</td>\n",
       "      <td>0.880295</td>\n",
       "      <td>0.786184</td>\n",
       "      <td>0.830582</td>\n",
       "    </tr>\n",
       "    <tr>\n",
       "      <th>3</th>\n",
       "      <td>TfidfVectorizer</td>\n",
       "      <td>LogisticRegression</td>\n",
       "      <td>50</td>\n",
       "      <td>0.8864</td>\n",
       "      <td>0.893581</td>\n",
       "      <td>0.870066</td>\n",
       "      <td>0.881667</td>\n",
       "    </tr>\n",
       "    <tr>\n",
       "      <th>4</th>\n",
       "      <td>TfidfVectorizer</td>\n",
       "      <td>RandomForestClassifier</td>\n",
       "      <td>50</td>\n",
       "      <td>0.8480</td>\n",
       "      <td>0.838188</td>\n",
       "      <td>0.851974</td>\n",
       "      <td>0.845024</td>\n",
       "    </tr>\n",
       "    <tr>\n",
       "      <th>5</th>\n",
       "      <td>TfidfVectorizer</td>\n",
       "      <td>CatBoostClassifier</td>\n",
       "      <td>50</td>\n",
       "      <td>0.8344</td>\n",
       "      <td>0.866545</td>\n",
       "      <td>0.779605</td>\n",
       "      <td>0.820779</td>\n",
       "    </tr>\n",
       "    <tr>\n",
       "      <th>6</th>\n",
       "      <td>CountVectorizer</td>\n",
       "      <td>LogisticRegression</td>\n",
       "      <td>100</td>\n",
       "      <td>0.8896</td>\n",
       "      <td>0.898305</td>\n",
       "      <td>0.871711</td>\n",
       "      <td>0.884808</td>\n",
       "    </tr>\n",
       "    <tr>\n",
       "      <th>7</th>\n",
       "      <td>CountVectorizer</td>\n",
       "      <td>RandomForestClassifier</td>\n",
       "      <td>100</td>\n",
       "      <td>0.8608</td>\n",
       "      <td>0.869048</td>\n",
       "      <td>0.840461</td>\n",
       "      <td>0.854515</td>\n",
       "    </tr>\n",
       "    <tr>\n",
       "      <th>8</th>\n",
       "      <td>CountVectorizer</td>\n",
       "      <td>CatBoostClassifier</td>\n",
       "      <td>100</td>\n",
       "      <td>0.8416</td>\n",
       "      <td>0.878229</td>\n",
       "      <td>0.782895</td>\n",
       "      <td>0.827826</td>\n",
       "    </tr>\n",
       "    <tr>\n",
       "      <th>9</th>\n",
       "      <td>TfidfVectorizer</td>\n",
       "      <td>LogisticRegression</td>\n",
       "      <td>100</td>\n",
       "      <td>0.8864</td>\n",
       "      <td>0.893581</td>\n",
       "      <td>0.870066</td>\n",
       "      <td>0.881667</td>\n",
       "    </tr>\n",
       "    <tr>\n",
       "      <th>10</th>\n",
       "      <td>TfidfVectorizer</td>\n",
       "      <td>RandomForestClassifier</td>\n",
       "      <td>100</td>\n",
       "      <td>0.8448</td>\n",
       "      <td>0.837134</td>\n",
       "      <td>0.845395</td>\n",
       "      <td>0.841244</td>\n",
       "    </tr>\n",
       "    <tr>\n",
       "      <th>11</th>\n",
       "      <td>TfidfVectorizer</td>\n",
       "      <td>CatBoostClassifier</td>\n",
       "      <td>100</td>\n",
       "      <td>0.8336</td>\n",
       "      <td>0.857143</td>\n",
       "      <td>0.789474</td>\n",
       "      <td>0.821918</td>\n",
       "    </tr>\n",
       "    <tr>\n",
       "      <th>12</th>\n",
       "      <td>CountVectorizer</td>\n",
       "      <td>LogisticRegression</td>\n",
       "      <td>150</td>\n",
       "      <td>0.8896</td>\n",
       "      <td>0.898305</td>\n",
       "      <td>0.871711</td>\n",
       "      <td>0.884808</td>\n",
       "    </tr>\n",
       "    <tr>\n",
       "      <th>13</th>\n",
       "      <td>CountVectorizer</td>\n",
       "      <td>RandomForestClassifier</td>\n",
       "      <td>150</td>\n",
       "      <td>0.8616</td>\n",
       "      <td>0.874355</td>\n",
       "      <td>0.835526</td>\n",
       "      <td>0.854500</td>\n",
       "    </tr>\n",
       "    <tr>\n",
       "      <th>14</th>\n",
       "      <td>CountVectorizer</td>\n",
       "      <td>CatBoostClassifier</td>\n",
       "      <td>150</td>\n",
       "      <td>0.8432</td>\n",
       "      <td>0.887218</td>\n",
       "      <td>0.776316</td>\n",
       "      <td>0.828070</td>\n",
       "    </tr>\n",
       "    <tr>\n",
       "      <th>15</th>\n",
       "      <td>TfidfVectorizer</td>\n",
       "      <td>LogisticRegression</td>\n",
       "      <td>150</td>\n",
       "      <td>0.8864</td>\n",
       "      <td>0.893581</td>\n",
       "      <td>0.870066</td>\n",
       "      <td>0.881667</td>\n",
       "    </tr>\n",
       "    <tr>\n",
       "      <th>16</th>\n",
       "      <td>TfidfVectorizer</td>\n",
       "      <td>RandomForestClassifier</td>\n",
       "      <td>150</td>\n",
       "      <td>0.8464</td>\n",
       "      <td>0.840984</td>\n",
       "      <td>0.843750</td>\n",
       "      <td>0.842365</td>\n",
       "    </tr>\n",
       "    <tr>\n",
       "      <th>17</th>\n",
       "      <td>TfidfVectorizer</td>\n",
       "      <td>CatBoostClassifier</td>\n",
       "      <td>150</td>\n",
       "      <td>0.8432</td>\n",
       "      <td>0.870504</td>\n",
       "      <td>0.796053</td>\n",
       "      <td>0.831615</td>\n",
       "    </tr>\n",
       "    <tr>\n",
       "      <th>18</th>\n",
       "      <td>CountVectorizer</td>\n",
       "      <td>LogisticRegression</td>\n",
       "      <td>200</td>\n",
       "      <td>0.8896</td>\n",
       "      <td>0.898305</td>\n",
       "      <td>0.871711</td>\n",
       "      <td>0.884808</td>\n",
       "    </tr>\n",
       "    <tr>\n",
       "      <th>19</th>\n",
       "      <td>CountVectorizer</td>\n",
       "      <td>RandomForestClassifier</td>\n",
       "      <td>200</td>\n",
       "      <td>0.8600</td>\n",
       "      <td>0.880492</td>\n",
       "      <td>0.824013</td>\n",
       "      <td>0.851317</td>\n",
       "    </tr>\n",
       "    <tr>\n",
       "      <th>20</th>\n",
       "      <td>CountVectorizer</td>\n",
       "      <td>CatBoostClassifier</td>\n",
       "      <td>200</td>\n",
       "      <td>0.8488</td>\n",
       "      <td>0.887246</td>\n",
       "      <td>0.789474</td>\n",
       "      <td>0.835509</td>\n",
       "    </tr>\n",
       "    <tr>\n",
       "      <th>21</th>\n",
       "      <td>TfidfVectorizer</td>\n",
       "      <td>LogisticRegression</td>\n",
       "      <td>200</td>\n",
       "      <td>0.8864</td>\n",
       "      <td>0.893581</td>\n",
       "      <td>0.870066</td>\n",
       "      <td>0.881667</td>\n",
       "    </tr>\n",
       "    <tr>\n",
       "      <th>22</th>\n",
       "      <td>TfidfVectorizer</td>\n",
       "      <td>RandomForestClassifier</td>\n",
       "      <td>200</td>\n",
       "      <td>0.8536</td>\n",
       "      <td>0.851240</td>\n",
       "      <td>0.847039</td>\n",
       "      <td>0.849134</td>\n",
       "    </tr>\n",
       "    <tr>\n",
       "      <th>23</th>\n",
       "      <td>TfidfVectorizer</td>\n",
       "      <td>CatBoostClassifier</td>\n",
       "      <td>200</td>\n",
       "      <td>0.8368</td>\n",
       "      <td>0.860714</td>\n",
       "      <td>0.792763</td>\n",
       "      <td>0.825342</td>\n",
       "    </tr>\n",
       "  </tbody>\n",
       "</table>\n",
       "</div>"
      ],
      "text/plain": [
       "               vect                   model  iterations  accuracy    recall  \\\n",
       "0   CountVectorizer      LogisticRegression          50    0.8896  0.898305   \n",
       "1   CountVectorizer  RandomForestClassifier          50    0.8624  0.874570   \n",
       "2   CountVectorizer      CatBoostClassifier          50    0.8440  0.880295   \n",
       "3   TfidfVectorizer      LogisticRegression          50    0.8864  0.893581   \n",
       "4   TfidfVectorizer  RandomForestClassifier          50    0.8480  0.838188   \n",
       "5   TfidfVectorizer      CatBoostClassifier          50    0.8344  0.866545   \n",
       "6   CountVectorizer      LogisticRegression         100    0.8896  0.898305   \n",
       "7   CountVectorizer  RandomForestClassifier         100    0.8608  0.869048   \n",
       "8   CountVectorizer      CatBoostClassifier         100    0.8416  0.878229   \n",
       "9   TfidfVectorizer      LogisticRegression         100    0.8864  0.893581   \n",
       "10  TfidfVectorizer  RandomForestClassifier         100    0.8448  0.837134   \n",
       "11  TfidfVectorizer      CatBoostClassifier         100    0.8336  0.857143   \n",
       "12  CountVectorizer      LogisticRegression         150    0.8896  0.898305   \n",
       "13  CountVectorizer  RandomForestClassifier         150    0.8616  0.874355   \n",
       "14  CountVectorizer      CatBoostClassifier         150    0.8432  0.887218   \n",
       "15  TfidfVectorizer      LogisticRegression         150    0.8864  0.893581   \n",
       "16  TfidfVectorizer  RandomForestClassifier         150    0.8464  0.840984   \n",
       "17  TfidfVectorizer      CatBoostClassifier         150    0.8432  0.870504   \n",
       "18  CountVectorizer      LogisticRegression         200    0.8896  0.898305   \n",
       "19  CountVectorizer  RandomForestClassifier         200    0.8600  0.880492   \n",
       "20  CountVectorizer      CatBoostClassifier         200    0.8488  0.887246   \n",
       "21  TfidfVectorizer      LogisticRegression         200    0.8864  0.893581   \n",
       "22  TfidfVectorizer  RandomForestClassifier         200    0.8536  0.851240   \n",
       "23  TfidfVectorizer      CatBoostClassifier         200    0.8368  0.860714   \n",
       "\n",
       "    precision        f1  \n",
       "0    0.871711  0.884808  \n",
       "1    0.837171  0.855462  \n",
       "2    0.786184  0.830582  \n",
       "3    0.870066  0.881667  \n",
       "4    0.851974  0.845024  \n",
       "5    0.779605  0.820779  \n",
       "6    0.871711  0.884808  \n",
       "7    0.840461  0.854515  \n",
       "8    0.782895  0.827826  \n",
       "9    0.870066  0.881667  \n",
       "10   0.845395  0.841244  \n",
       "11   0.789474  0.821918  \n",
       "12   0.871711  0.884808  \n",
       "13   0.835526  0.854500  \n",
       "14   0.776316  0.828070  \n",
       "15   0.870066  0.881667  \n",
       "16   0.843750  0.842365  \n",
       "17   0.796053  0.831615  \n",
       "18   0.871711  0.884808  \n",
       "19   0.824013  0.851317  \n",
       "20   0.789474  0.835509  \n",
       "21   0.870066  0.881667  \n",
       "22   0.847039  0.849134  \n",
       "23   0.792763  0.825342  "
      ]
     },
     "execution_count": 25,
     "metadata": {},
     "output_type": "execute_result"
    }
   ],
   "source": [
    "fit_results = []\n",
    "\n",
    "for iteration in ([50, 100, 150, 200]):\n",
    "    for vect in tqdm([CountVectorizer(), TfidfVectorizer()]):\n",
    "        for model in tqdm([LogisticRegression(max_iter = iteration), \n",
    "                           RandomForestClassifier(), CatBoostClassifier(iterations = iteration, verbose = 500)]):\n",
    "\n",
    "            pipeline = Pipeline(\n",
    "                [\n",
    "                    (\"stem\", StemmerEng()),\n",
    "                    (\"vect\", vect),\n",
    "                    (\"model\", model),\n",
    "                ]\n",
    "            )\n",
    "\n",
    "            pipeline.fit(x_train, y_train)\n",
    "            y_pred = pipeline.predict(x_test)\n",
    "\n",
    "            accuracy_metric = accuracy_score(y_pred, y_test)\n",
    "            recall_metric = recall_score(y_pred, y_test)\n",
    "            precision_metric = precision_score(y_pred, y_test)\n",
    "            f1_metric = f1_score(y_pred, y_test)\n",
    "\n",
    "            fit_results.append(\n",
    "                {\n",
    "                    'vect': vect.__class__.__name__,\n",
    "                    'model': model.__class__.__name__,\n",
    "                    'iterations': iteration,\n",
    "                    'accuracy': accuracy_metric,\n",
    "                    'recall': recall_metric,\n",
    "                    'precision': precision_metric,\n",
    "                    'f1': f1_metric,\n",
    "                }\n",
    "            )\n",
    "\n",
    "fit_results = pd.DataFrame(fit_results)\n",
    "fit_results"
   ]
  },
  {
   "cell_type": "markdown",
   "id": "0b4b08dc",
   "metadata": {},
   "source": [
    "*Кажется, пришло время выбрать метрику. Как будто бы логичнее всего использовать accuracy, потому что у нас два класса, дисбаланса никакого нет, если мы где-то ошибаемся в ответе, то не принципиально, какого типа это была ошибка FalseNegative или FalsePositive*"
   ]
  },
  {
   "cell_type": "markdown",
   "id": "5b4c8f7b",
   "metadata": {},
   "source": [
    "*Поэтому отсортим нашу табличку по accuracy и выберем топ3 строчки!*"
   ]
  },
  {
   "cell_type": "code",
   "execution_count": 26,
   "id": "fa70612a",
   "metadata": {},
   "outputs": [
    {
     "data": {
      "text/html": [
       "<div>\n",
       "<style scoped>\n",
       "    .dataframe tbody tr th:only-of-type {\n",
       "        vertical-align: middle;\n",
       "    }\n",
       "\n",
       "    .dataframe tbody tr th {\n",
       "        vertical-align: top;\n",
       "    }\n",
       "\n",
       "    .dataframe thead th {\n",
       "        text-align: right;\n",
       "    }\n",
       "</style>\n",
       "<table border=\"1\" class=\"dataframe\">\n",
       "  <thead>\n",
       "    <tr style=\"text-align: right;\">\n",
       "      <th></th>\n",
       "      <th>vect</th>\n",
       "      <th>model</th>\n",
       "      <th>iterations</th>\n",
       "      <th>accuracy</th>\n",
       "      <th>recall</th>\n",
       "      <th>precision</th>\n",
       "      <th>f1</th>\n",
       "    </tr>\n",
       "  </thead>\n",
       "  <tbody>\n",
       "    <tr>\n",
       "      <th>0</th>\n",
       "      <td>CountVectorizer</td>\n",
       "      <td>LogisticRegression</td>\n",
       "      <td>50</td>\n",
       "      <td>0.8896</td>\n",
       "      <td>0.898305</td>\n",
       "      <td>0.871711</td>\n",
       "      <td>0.884808</td>\n",
       "    </tr>\n",
       "    <tr>\n",
       "      <th>6</th>\n",
       "      <td>CountVectorizer</td>\n",
       "      <td>LogisticRegression</td>\n",
       "      <td>100</td>\n",
       "      <td>0.8896</td>\n",
       "      <td>0.898305</td>\n",
       "      <td>0.871711</td>\n",
       "      <td>0.884808</td>\n",
       "    </tr>\n",
       "    <tr>\n",
       "      <th>18</th>\n",
       "      <td>CountVectorizer</td>\n",
       "      <td>LogisticRegression</td>\n",
       "      <td>200</td>\n",
       "      <td>0.8896</td>\n",
       "      <td>0.898305</td>\n",
       "      <td>0.871711</td>\n",
       "      <td>0.884808</td>\n",
       "    </tr>\n",
       "  </tbody>\n",
       "</table>\n",
       "</div>"
      ],
      "text/plain": [
       "               vect               model  iterations  accuracy    recall  \\\n",
       "0   CountVectorizer  LogisticRegression          50    0.8896  0.898305   \n",
       "6   CountVectorizer  LogisticRegression         100    0.8896  0.898305   \n",
       "18  CountVectorizer  LogisticRegression         200    0.8896  0.898305   \n",
       "\n",
       "    precision        f1  \n",
       "0    0.871711  0.884808  \n",
       "6    0.871711  0.884808  \n",
       "18   0.871711  0.884808  "
      ]
     },
     "execution_count": 26,
     "metadata": {},
     "output_type": "execute_result"
    }
   ],
   "source": [
    "fit_results.sort_values('accuracy', ascending = False).head(3)"
   ]
  },
  {
   "cell_type": "markdown",
   "id": "de8655a8",
   "metadata": {},
   "source": [
    "*LogisticRegression лучше всех. Давайте теперь обучим на исходном датасете*"
   ]
  },
  {
   "cell_type": "code",
   "execution_count": 27,
   "id": "0ce1bdc1",
   "metadata": {},
   "outputs": [],
   "source": [
    "lemmatizer = WordNetLemmatizer()\n",
    "\n",
    "def lemmatize_word(word: str) -> str:\n",
    "    return lemmatizer.lemmatize(word)\n",
    "\n",
    "def lemmatize(text: str) -> str:\n",
    "    words = list(map(lemmatize_word, text.split()))\n",
    "    return ' '.join(words)\n",
    "\n",
    "class Lemmatizer(BaseEstimator):\n",
    "    def __init__(self):\n",
    "        pass\n",
    "        \n",
    "    def fit(self, x, y=None):\n",
    "        return self\n",
    "    \n",
    "    def transform(self, x):\n",
    "        return np.array(list(map(lemmatize,x)))"
   ]
  },
  {
   "cell_type": "code",
   "execution_count": 28,
   "id": "93524b12",
   "metadata": {},
   "outputs": [],
   "source": [
    "train, test = train_test_split(df, test_size = 0.2, random_state = 52)"
   ]
  },
  {
   "cell_type": "code",
   "execution_count": 29,
   "id": "e844362f",
   "metadata": {},
   "outputs": [],
   "source": [
    "x_train = train['text']\n",
    "x_test = test['text']\n",
    "\n",
    "y_train = train['humor']\n",
    "y_test = test['humor']"
   ]
  },
  {
   "cell_type": "code",
   "execution_count": 30,
   "id": "1c879e88",
   "metadata": {},
   "outputs": [
    {
     "data": {
      "text/plain": [
       "187723    When pigs fly they will have the most deliciou...\n",
       "59141      6 things you probably didn't know about avocados\n",
       "172570    Humans have 46 chromosomes, peas 6 and crayfis...\n",
       "75393     The technical term for the very bottom of a ba...\n",
       "20582     According to this bathroom stall, my ex change...\n",
       "                                ...                        \n",
       "58268     Ability to 'hold your liquor' may raise alcoho...\n",
       "129110      The top 5 international exhibitions of the year\n",
       "69783     Going to therapy for the first time? here's wh...\n",
       "56845     Did you hear about the guy who died after eati...\n",
       "42652     I have made nothing but horrible decisions eve...\n",
       "Name: text, Length: 160000, dtype: object"
      ]
     },
     "execution_count": 30,
     "metadata": {},
     "output_type": "execute_result"
    }
   ],
   "source": [
    "x_train"
   ]
  },
  {
   "cell_type": "markdown",
   "id": "3373fcad",
   "metadata": {},
   "source": [
    "*Также уберем стоп-слова*"
   ]
  },
  {
   "cell_type": "code",
   "execution_count": 31,
   "id": "ab380afc",
   "metadata": {},
   "outputs": [],
   "source": [
    "x_train = RemoveStopWords().transform(x_train)\n",
    "x_test = RemoveStopWords().transform(x_test)"
   ]
  },
  {
   "cell_type": "markdown",
   "id": "e0c1b570",
   "metadata": {},
   "source": [
    "*Попробуем еще лемматизацию*"
   ]
  },
  {
   "cell_type": "code",
   "execution_count": 34,
   "id": "01359cc1",
   "metadata": {},
   "outputs": [
    {
     "name": "stderr",
     "output_type": "stream",
     "text": [
      "100%|█████████████████████████████████████████████| 2/2 [01:18<00:00, 39.29s/it]\n"
     ]
    },
    {
     "data": {
      "text/html": [
       "<div>\n",
       "<style scoped>\n",
       "    .dataframe tbody tr th:only-of-type {\n",
       "        vertical-align: middle;\n",
       "    }\n",
       "\n",
       "    .dataframe tbody tr th {\n",
       "        vertical-align: top;\n",
       "    }\n",
       "\n",
       "    .dataframe thead th {\n",
       "        text-align: right;\n",
       "    }\n",
       "</style>\n",
       "<table border=\"1\" class=\"dataframe\">\n",
       "  <thead>\n",
       "    <tr style=\"text-align: right;\">\n",
       "      <th></th>\n",
       "      <th>vect</th>\n",
       "      <th>model</th>\n",
       "      <th>accuracy</th>\n",
       "      <th>recall</th>\n",
       "      <th>precision</th>\n",
       "      <th>f1</th>\n",
       "      <th>process</th>\n",
       "    </tr>\n",
       "  </thead>\n",
       "  <tbody>\n",
       "    <tr>\n",
       "      <th>0</th>\n",
       "      <td>CountVectorizer</td>\n",
       "      <td>LogisticRegression</td>\n",
       "      <td>0.915175</td>\n",
       "      <td>0.916003</td>\n",
       "      <td>0.914124</td>\n",
       "      <td>0.915062</td>\n",
       "      <td>StemmerEng()</td>\n",
       "    </tr>\n",
       "    <tr>\n",
       "      <th>1</th>\n",
       "      <td>CountVectorizer</td>\n",
       "      <td>LogisticRegression</td>\n",
       "      <td>0.915700</td>\n",
       "      <td>0.917428</td>\n",
       "      <td>0.913574</td>\n",
       "      <td>0.915497</td>\n",
       "      <td>Lemmatizer()</td>\n",
       "    </tr>\n",
       "  </tbody>\n",
       "</table>\n",
       "</div>"
      ],
      "text/plain": [
       "              vect               model  accuracy    recall  precision  \\\n",
       "0  CountVectorizer  LogisticRegression  0.915175  0.916003   0.914124   \n",
       "1  CountVectorizer  LogisticRegression  0.915700  0.917428   0.913574   \n",
       "\n",
       "         f1       process  \n",
       "0  0.915062  StemmerEng()  \n",
       "1  0.915497  Lemmatizer()  "
      ]
     },
     "execution_count": 34,
     "metadata": {},
     "output_type": "execute_result"
    }
   ],
   "source": [
    "model = LogisticRegression()\n",
    "vect = CountVectorizer()\n",
    "\n",
    "fit_results = []\n",
    "\n",
    "def my_fit():\n",
    "    for pr in tqdm([StemmerEng(), Lemmatizer()]):\n",
    "        pipeline = Pipeline(\n",
    "                        [\n",
    "                            (\"pr\", pr),\n",
    "                            (\"vect\", vect),\n",
    "                            (\"model\", model),\n",
    "                        ]\n",
    "                    )\n",
    "\n",
    "        pipeline.fit(x_train, y_train)\n",
    "        y_pred = pipeline.predict(x_test)\n",
    "\n",
    "\n",
    "        accuracy_metric = accuracy_score(y_pred, y_test)\n",
    "        recall_metric = recall_score(y_pred, y_test)\n",
    "        precision_metric = precision_score(y_pred, y_test)\n",
    "        f1_metric = f1_score(y_pred, y_test)\n",
    "\n",
    "        fit_results.append(\n",
    "                        {\n",
    "                            'vect': vect.__class__.__name__,\n",
    "                            'model': model.__class__.__name__,\n",
    "                            'accuracy': accuracy_metric,\n",
    "                            'recall': recall_metric,\n",
    "                            'precision': precision_metric,\n",
    "                            'f1': f1_metric,\n",
    "                            'process': pr\n",
    "                        }\n",
    "                    )\n",
    "my_fit()\n",
    "\n",
    "fit_results = pd.DataFrame(fit_results)\n",
    "fit_results"
   ]
  },
  {
   "cell_type": "markdown",
   "id": "6614e1c1",
   "metadata": {},
   "source": [
    "*Получили accuracy 0.915. Ура*"
   ]
  },
  {
   "cell_type": "markdown",
   "id": "41b23392",
   "metadata": {},
   "source": [
    "*Но на самом деле, если стоп-слова оставить, то получится лучше*"
   ]
  },
  {
   "cell_type": "code",
   "execution_count": 35,
   "id": "db901d9f",
   "metadata": {},
   "outputs": [],
   "source": [
    "x_train = train['text']\n",
    "x_test = test['text']\n",
    "\n",
    "y_train = train['humor']\n",
    "y_test = test['humor']"
   ]
  },
  {
   "cell_type": "code",
   "execution_count": 37,
   "id": "85443483",
   "metadata": {},
   "outputs": [
    {
     "name": "stderr",
     "output_type": "stream",
     "text": [
      "  0%|                                                     | 0/2 [00:00<?, ?it/s]/home/trueuser/.local/lib/python3.10/site-packages/sklearn/linear_model/_logistic.py:469: ConvergenceWarning: lbfgs failed to converge (status=1):\n",
      "STOP: TOTAL NO. of ITERATIONS REACHED LIMIT.\n",
      "\n",
      "Increase the number of iterations (max_iter) or scale the data as shown in:\n",
      "    https://scikit-learn.org/stable/modules/preprocessing.html\n",
      "Please also refer to the documentation for alternative solver options:\n",
      "    https://scikit-learn.org/stable/modules/linear_model.html#logistic-regression\n",
      "  n_iter_i = _check_optimize_result(\n",
      " 50%|██████████████████████▌                      | 1/2 [01:17<01:17, 77.54s/it]/home/trueuser/.local/lib/python3.10/site-packages/sklearn/linear_model/_logistic.py:469: ConvergenceWarning: lbfgs failed to converge (status=1):\n",
      "STOP: TOTAL NO. of ITERATIONS REACHED LIMIT.\n",
      "\n",
      "Increase the number of iterations (max_iter) or scale the data as shown in:\n",
      "    https://scikit-learn.org/stable/modules/preprocessing.html\n",
      "Please also refer to the documentation for alternative solver options:\n",
      "    https://scikit-learn.org/stable/modules/linear_model.html#logistic-regression\n",
      "  n_iter_i = _check_optimize_result(\n",
      "100%|█████████████████████████████████████████████| 2/2 [01:45<00:00, 52.55s/it]\n"
     ]
    },
    {
     "data": {
      "text/html": [
       "<div>\n",
       "<style scoped>\n",
       "    .dataframe tbody tr th:only-of-type {\n",
       "        vertical-align: middle;\n",
       "    }\n",
       "\n",
       "    .dataframe tbody tr th {\n",
       "        vertical-align: top;\n",
       "    }\n",
       "\n",
       "    .dataframe thead th {\n",
       "        text-align: right;\n",
       "    }\n",
       "</style>\n",
       "<table border=\"1\" class=\"dataframe\">\n",
       "  <thead>\n",
       "    <tr style=\"text-align: right;\">\n",
       "      <th></th>\n",
       "      <th>vect</th>\n",
       "      <th>model</th>\n",
       "      <th>accuracy</th>\n",
       "      <th>recall</th>\n",
       "      <th>precision</th>\n",
       "      <th>f1</th>\n",
       "      <th>process</th>\n",
       "    </tr>\n",
       "  </thead>\n",
       "  <tbody>\n",
       "    <tr>\n",
       "      <th>0</th>\n",
       "      <td>CountVectorizer</td>\n",
       "      <td>LogisticRegression</td>\n",
       "      <td>0.930575</td>\n",
       "      <td>0.932132</td>\n",
       "      <td>0.928729</td>\n",
       "      <td>0.930427</td>\n",
       "      <td>StemmerEng()</td>\n",
       "    </tr>\n",
       "    <tr>\n",
       "      <th>1</th>\n",
       "      <td>CountVectorizer</td>\n",
       "      <td>LogisticRegression</td>\n",
       "      <td>0.930775</td>\n",
       "      <td>0.933945</td>\n",
       "      <td>0.927078</td>\n",
       "      <td>0.930499</td>\n",
       "      <td>Lemmatizer()</td>\n",
       "    </tr>\n",
       "  </tbody>\n",
       "</table>\n",
       "</div>"
      ],
      "text/plain": [
       "              vect               model  accuracy    recall  precision  \\\n",
       "0  CountVectorizer  LogisticRegression  0.930575  0.932132   0.928729   \n",
       "1  CountVectorizer  LogisticRegression  0.930775  0.933945   0.927078   \n",
       "\n",
       "         f1       process  \n",
       "0  0.930427  StemmerEng()  \n",
       "1  0.930499  Lemmatizer()  "
      ]
     },
     "execution_count": 37,
     "metadata": {},
     "output_type": "execute_result"
    }
   ],
   "source": [
    "fit_results = []\n",
    "\n",
    "my_fit()\n",
    "\n",
    "fit_results = pd.DataFrame(fit_results)\n",
    "fit_results"
   ]
  },
  {
   "cell_type": "markdown",
   "id": "8ff21426",
   "metadata": {},
   "source": [
    "*И в правду*"
   ]
  }
 ],
 "metadata": {
  "kernelspec": {
   "display_name": "Python 3 (ipykernel)",
   "language": "python",
   "name": "python3"
  },
  "language_info": {
   "codemirror_mode": {
    "name": "ipython",
    "version": 3
   },
   "file_extension": ".py",
   "mimetype": "text/x-python",
   "name": "python",
   "nbconvert_exporter": "python",
   "pygments_lexer": "ipython3",
   "version": "3.10.12"
  }
 },
 "nbformat": 4,
 "nbformat_minor": 5
}
